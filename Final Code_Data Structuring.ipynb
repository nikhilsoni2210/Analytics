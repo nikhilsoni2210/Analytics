{
 "cells": [
  {
   "cell_type": "code",
   "execution_count": 5,
   "metadata": {
    "collapsed": true
   },
   "outputs": [],
   "source": [
    "#importing nse library to get nse stock data\n",
    "\n",
    "from nsepy import get_history\n",
    "from datetime import date\n",
    "import pandas as pd\n",
    "import datetime\n"
   ]
  },
  {
   "cell_type": "code",
   "execution_count": 6,
   "metadata": {
    "collapsed": true
   },
   "outputs": [],
   "source": [
    "#reading the scrapped data \n",
    "money=pd.read_excel(\"E:\\\\allpraxis\\\\CAPP\\\\Scrapped Data1.xlsx\")\n",
    "money = money.dropna(subset = ['NSE CODE'])\n",
    "money = money.reset_index(drop=True)"
   ]
  },
  {
   "cell_type": "code",
   "execution_count": 7,
   "metadata": {},
   "outputs": [
    {
     "data": {
      "text/html": [
       "<div>\n",
       "<style>\n",
       "    .dataframe thead tr:only-child th {\n",
       "        text-align: right;\n",
       "    }\n",
       "\n",
       "    .dataframe thead th {\n",
       "        text-align: left;\n",
       "    }\n",
       "\n",
       "    .dataframe tbody tr th {\n",
       "        vertical-align: top;\n",
       "    }\n",
       "</style>\n",
       "<table border=\"1\" class=\"dataframe\">\n",
       "  <thead>\n",
       "    <tr style=\"text-align: right;\">\n",
       "      <th></th>\n",
       "      <th>Sl no</th>\n",
       "      <th>Date</th>\n",
       "      <th>Stock_Name</th>\n",
       "      <th>New Stock Name</th>\n",
       "      <th>NSE DESC</th>\n",
       "      <th>NSE CODE</th>\n",
       "      <th>Action</th>\n",
       "      <th>Target</th>\n",
       "      <th>Recommender</th>\n",
       "    </tr>\n",
       "  </thead>\n",
       "  <tbody>\n",
       "    <tr>\n",
       "      <th>0</th>\n",
       "      <td>8144</td>\n",
       "      <td>sep 15, 2014</td>\n",
       "      <td>petronet lng</td>\n",
       "      <td>PETRONET LNG</td>\n",
       "      <td>PETRONET LNG</td>\n",
       "      <td>PETRONET</td>\n",
       "      <td>sell</td>\n",
       "      <td>185</td>\n",
       "      <td>kotak securities</td>\n",
       "    </tr>\n",
       "    <tr>\n",
       "      <th>1</th>\n",
       "      <td>8571</td>\n",
       "      <td>aug 06, 2014</td>\n",
       "      <td>petronet lng</td>\n",
       "      <td>PETRONET LNG</td>\n",
       "      <td>PETRONET LNG</td>\n",
       "      <td>PETRONET</td>\n",
       "      <td>hold</td>\n",
       "      <td>170</td>\n",
       "      <td>emkay</td>\n",
       "    </tr>\n",
       "    <tr>\n",
       "      <th>2</th>\n",
       "      <td>9170</td>\n",
       "      <td>jun 23, 2014</td>\n",
       "      <td>petronet lng</td>\n",
       "      <td>PETRONET LNG</td>\n",
       "      <td>PETRONET LNG</td>\n",
       "      <td>PETRONET</td>\n",
       "      <td>buy</td>\n",
       "      <td>195</td>\n",
       "      <td>icicidirect.com</td>\n",
       "    </tr>\n",
       "    <tr>\n",
       "      <th>3</th>\n",
       "      <td>9674</td>\n",
       "      <td>may 14, 2014</td>\n",
       "      <td>petronet lng</td>\n",
       "      <td>PETRONET LNG</td>\n",
       "      <td>PETRONET LNG</td>\n",
       "      <td>PETRONET</td>\n",
       "      <td>hold</td>\n",
       "      <td>152</td>\n",
       "      <td>sushil finance</td>\n",
       "    </tr>\n",
       "    <tr>\n",
       "      <th>4</th>\n",
       "      <td>9762</td>\n",
       "      <td>may 06, 2014</td>\n",
       "      <td>petronet lng</td>\n",
       "      <td>PETRONET LNG</td>\n",
       "      <td>PETRONET LNG</td>\n",
       "      <td>PETRONET</td>\n",
       "      <td>reduce</td>\n",
       "      <td>143</td>\n",
       "      <td>krchoksey</td>\n",
       "    </tr>\n",
       "  </tbody>\n",
       "</table>\n",
       "</div>"
      ],
      "text/plain": [
       "   Sl no             Date     Stock_Name New Stock Name      NSE DESC  \\\n",
       "0   8144    sep 15, 2014    petronet lng   PETRONET LNG  PETRONET LNG   \n",
       "1   8571    aug 06, 2014    petronet lng   PETRONET LNG  PETRONET LNG   \n",
       "2   9170    jun 23, 2014    petronet lng   PETRONET LNG  PETRONET LNG   \n",
       "3   9674    may 14, 2014    petronet lng   PETRONET LNG  PETRONET LNG   \n",
       "4   9762    may 06, 2014    petronet lng   PETRONET LNG  PETRONET LNG   \n",
       "\n",
       "   NSE CODE  Action  Target         Recommender  \n",
       "0  PETRONET    sell     185   kotak securities   \n",
       "1  PETRONET    hold     170              emkay   \n",
       "2  PETRONET     buy     195    icicidirect.com   \n",
       "3  PETRONET    hold     152     sushil finance   \n",
       "4  PETRONET  reduce     143          krchoksey   "
      ]
     },
     "execution_count": 7,
     "metadata": {},
     "output_type": "execute_result"
    }
   ],
   "source": [
    "money.head()"
   ]
  },
  {
   "cell_type": "code",
   "execution_count": 8,
   "metadata": {},
   "outputs": [
    {
     "data": {
      "text/plain": [
       "(5202, 9)"
      ]
     },
     "execution_count": 8,
     "metadata": {},
     "output_type": "execute_result"
    }
   ],
   "source": [
    "#FOR EACH STOCK:-\n",
    "# extracting start date(recommendation date).\n",
    "# extracting target.\n",
    "# extracting nearest value acheived, argmin(daily_closing_price - target).\n",
    "# extracting date when nearest value acheived.\n",
    "# days to acheive target(start date - acheived date)\n",
    "money.shape"
   ]
  },
  {
   "cell_type": "code",
   "execution_count": 9,
   "metadata": {},
   "outputs": [
    {
     "data": {
      "text/html": [
       "<div>\n",
       "<style>\n",
       "    .dataframe thead tr:only-child th {\n",
       "        text-align: right;\n",
       "    }\n",
       "\n",
       "    .dataframe thead th {\n",
       "        text-align: left;\n",
       "    }\n",
       "\n",
       "    .dataframe tbody tr th {\n",
       "        vertical-align: top;\n",
       "    }\n",
       "</style>\n",
       "<table border=\"1\" class=\"dataframe\">\n",
       "  <thead>\n",
       "    <tr style=\"text-align: right;\">\n",
       "      <th></th>\n",
       "      <th>Sl no</th>\n",
       "      <th>Date</th>\n",
       "      <th>Stock_Name</th>\n",
       "      <th>New Stock Name</th>\n",
       "      <th>NSE DESC</th>\n",
       "      <th>NSE CODE</th>\n",
       "      <th>Action</th>\n",
       "      <th>Target</th>\n",
       "      <th>Recommender</th>\n",
       "    </tr>\n",
       "  </thead>\n",
       "  <tbody>\n",
       "    <tr>\n",
       "      <th>51</th>\n",
       "      <td>7006</td>\n",
       "      <td>jun 03, 2015</td>\n",
       "      <td>pfc</td>\n",
       "      <td>PFC</td>\n",
       "      <td>POWER FINANCE CORPORATION</td>\n",
       "      <td>PFC</td>\n",
       "      <td>buy</td>\n",
       "      <td>300</td>\n",
       "      <td>firstcall research</td>\n",
       "    </tr>\n",
       "  </tbody>\n",
       "</table>\n",
       "</div>"
      ],
      "text/plain": [
       "    Sl no             Date Stock_Name New Stock Name  \\\n",
       "51   7006    jun 03, 2015         pfc            PFC   \n",
       "\n",
       "                     NSE DESC NSE CODE Action  Target           Recommender  \n",
       "51  POWER FINANCE CORPORATION      PFC    buy     300   firstcall research   "
      ]
     },
     "metadata": {},
     "output_type": "display_data"
    }
   ],
   "source": [
    "#extracting rows for given stock code(can be automated using for loop for each stock code in the stock code column)\n",
    "#display(money[money['NSE CODE'] == 'LICHSGFIN'])\n",
    "#recommendation =  money[money['NSE CODE'] == 'CANBK'][:1]\n",
    "recommendation=money[51:52]\n",
    "display(recommendation)"
   ]
  },
  {
   "cell_type": "code",
   "execution_count": 10,
   "metadata": {},
   "outputs": [
    {
     "data": {
      "text/plain": [
       "51    PFC\n",
       "Name: NSE CODE, dtype: object"
      ]
     },
     "execution_count": 10,
     "metadata": {},
     "output_type": "execute_result"
    }
   ],
   "source": [
    "stock_code= recommendation['NSE CODE']\n",
    "stock_code"
   ]
  },
  {
   "cell_type": "code",
   "execution_count": 11,
   "metadata": {},
   "outputs": [
    {
     "data": {
      "text/plain": [
       "'  jun 03, 2015 '"
      ]
     },
     "execution_count": 11,
     "metadata": {},
     "output_type": "execute_result"
    }
   ],
   "source": [
    "#Extracting date from extracted rows:\n",
    "start_date= recommendation['Date'].iloc[0]\n",
    "#start_date = start_date.drop([0])\n",
    "#d = start_date[1]\n",
    "#d\n",
    "start_date"
   ]
  },
  {
   "cell_type": "code",
   "execution_count": null,
   "metadata": {
    "collapsed": true
   },
   "outputs": [],
   "source": []
  },
  {
   "cell_type": "code",
   "execution_count": 12,
   "metadata": {
    "collapsed": true
   },
   "outputs": [],
   "source": [
    "#to get history of stock we have to pass date in date(%Y,%m,%d) format, thus converting:\n",
    "#date_object = datetime.strptime(d, '%m %d %Y') # getting error because of ',' in date forat\n",
    "#print(date_object)"
   ]
  },
  {
   "cell_type": "code",
   "execution_count": 13,
   "metadata": {},
   "outputs": [
    {
     "data": {
      "text/plain": [
       "'  jun 03 2015 '"
      ]
     },
     "execution_count": 13,
     "metadata": {},
     "output_type": "execute_result"
    }
   ],
   "source": [
    "#removing comma from date format:\n",
    "#money['Date'] = money['Date'].replace(',', '') #not working\n",
    "#money['Date']\n",
    "#money['Date'].str.replace(',', '') # working\n",
    "start_date = start_date.replace(',', '') #worked\n",
    "start_date"
   ]
  },
  {
   "cell_type": "code",
   "execution_count": 14,
   "metadata": {},
   "outputs": [
    {
     "data": {
      "text/plain": [
       "Timestamp('2015-06-03 00:00:00')"
      ]
     },
     "metadata": {},
     "output_type": "display_data"
    },
    {
     "data": {
      "text/plain": [
       "Timestamp('2015-06-03 00:00:00')"
      ]
     },
     "metadata": {},
     "output_type": "display_data"
    },
    {
     "data": {
      "text/plain": [
       "Timestamp('2016-06-03 00:00:00')"
      ]
     },
     "metadata": {},
     "output_type": "display_data"
    }
   ],
   "source": [
    "#now converting date column in get_history formatdate(2018,8,20): \n",
    "#money['Date'] = datetime.strptime(money['Date'], '%m,%d,%Y') #not working\n",
    "start_date = pd.to_datetime(start_date)\n",
    "# start_date = start_date.strftime('%Y,%m,%d') #converting in %Y,%m,%d format\n",
    "display(start_date)\n",
    "display(start_date)\n",
    "display(start_date-pd.DateOffset(years=-1))\n",
    "\n",
    "reco_past_date = start_date\n",
    "reco_future_date = start_date-pd.DateOffset(years=-1)\n"
   ]
  },
  {
   "cell_type": "code",
   "execution_count": 15,
   "metadata": {
    "collapsed": true
   },
   "outputs": [],
   "source": [
    "#date column modified\n",
    "#money1 = money\n",
    "#money1.head()"
   ]
  },
  {
   "cell_type": "code",
   "execution_count": 16,
   "metadata": {},
   "outputs": [
    {
     "data": {
      "text/plain": [
       "300"
      ]
     },
     "execution_count": 16,
     "metadata": {},
     "output_type": "execute_result"
    }
   ],
   "source": [
    "#extracting target:\n",
    "st_target= recommendation['Target'].iloc[0] #value for target for given stock code\n",
    "st_target"
   ]
  },
  {
   "cell_type": "code",
   "execution_count": 17,
   "metadata": {
    "scrolled": true
   },
   "outputs": [],
   "source": [
    "#stock_history data:\n",
    "#from nsepy import get_history\n",
    "#from datetime import date\n",
    "#import datetime\n",
    "#s_hist=get_history(symbol=stock_code,start=reco_past_date.date(),end=reco_future_date.date()).iloc[:,4]\n",
    "#display(s_hist.head())\n",
    "# display(s_hist.tail())\n",
    "\n",
    "#import matplotlib.pyplot as plt\n",
    "\n",
    "#s_hist['High'].plot()\n",
    "\n",
    "#plt.show()"
   ]
  },
  {
   "cell_type": "markdown",
   "metadata": {},
   "source": [
    "## generalising get_hist function:"
   ]
  },
  {
   "cell_type": "code",
   "execution_count": 18,
   "metadata": {},
   "outputs": [
    {
     "data": {
      "text/plain": [
       "datetime.date(2015, 6, 3)"
      ]
     },
     "execution_count": 18,
     "metadata": {},
     "output_type": "execute_result"
    }
   ],
   "source": [
    "recom_date = start_date.date() #already cleaned before\n",
    "\n",
    "# recom_date = '2016,08,29'\n",
    "recom_date"
   ]
  },
  {
   "cell_type": "code",
   "execution_count": 19,
   "metadata": {},
   "outputs": [
    {
     "name": "stdout",
     "output_type": "stream",
     "text": [
      "2015\n",
      "6\n",
      "3\n",
      "2016\n"
     ]
    }
   ],
   "source": [
    "year = recom_date.year\n",
    "month = recom_date.month\n",
    "day = recom_date.day\n",
    "end_year = int(year)+1\n",
    "print(year)\n",
    "print(month)\n",
    "print(day)\n",
    "print(end_year)"
   ]
  },
  {
   "cell_type": "code",
   "execution_count": 20,
   "metadata": {},
   "outputs": [
    {
     "name": "stderr",
     "output_type": "stream",
     "text": [
      "Exception in thread Thread-26:\n",
      "Traceback (most recent call last):\n",
      "  File \"C:\\Users\\user\\Anaconda3\\lib\\site-packages\\nsepy\\urls.py\", line 32, in get_symbol_count\n",
      "    return symbol_count[symbol]\n",
      "  File \"C:\\Users\\user\\Anaconda3\\lib\\site-packages\\pandas\\core\\generic.py\", line 879, in __hash__\n",
      "    ' hashed'.format(self.__class__.__name__))\n",
      "TypeError: 'Series' objects are mutable, thus they cannot be hashed\n",
      "\n",
      "During handling of the above exception, another exception occurred:\n",
      "\n",
      "Traceback (most recent call last):\n",
      "  File \"C:\\Users\\user\\Anaconda3\\lib\\threading.py\", line 916, in _bootstrap_inner\n",
      "    self.run()\n",
      "  File \"C:\\Users\\user\\Anaconda3\\lib\\site-packages\\nsepy\\commons.py\", line 132, in run\n",
      "    self.result = self._target(*self._args, **self._kwargs)\n",
      "  File \"C:\\Users\\user\\Anaconda3\\lib\\site-packages\\nsepy\\history.py\", line 135, in get_history\n",
      "    return get_history_quanta(**kwargs)\n",
      "  File \"C:\\Users\\user\\Anaconda3\\lib\\site-packages\\nsepy\\history.py\", line 138, in get_history_quanta\n",
      "    url, params, schema, headers, scaling = validate_params(**kwargs)\n",
      "  File \"C:\\Users\\user\\Anaconda3\\lib\\site-packages\\nsepy\\history.py\", line 240, in validate_params\n",
      "    params['symbolCount'] = get_symbol_count(symbol)\n",
      "  File \"C:\\Users\\user\\Anaconda3\\lib\\site-packages\\nsepy\\urls.py\", line 35, in get_symbol_count\n",
      "    symbol_count[symbol] = cnt\n",
      "  File \"C:\\Users\\user\\Anaconda3\\lib\\site-packages\\pandas\\core\\generic.py\", line 879, in __hash__\n",
      "    ' hashed'.format(self.__class__.__name__))\n",
      "TypeError: 'Series' objects are mutable, thus they cannot be hashed\n",
      "\n",
      "Exception in thread Thread-29:\n",
      "Traceback (most recent call last):\n",
      "  File \"C:\\Users\\user\\Anaconda3\\lib\\site-packages\\nsepy\\urls.py\", line 32, in get_symbol_count\n",
      "    return symbol_count[symbol]\n",
      "  File \"C:\\Users\\user\\Anaconda3\\lib\\site-packages\\pandas\\core\\generic.py\", line 879, in __hash__\n",
      "    ' hashed'.format(self.__class__.__name__))\n",
      "TypeError: 'Series' objects are mutable, thus they cannot be hashed\n",
      "\n",
      "During handling of the above exception, another exception occurred:\n",
      "\n",
      "Traceback (most recent call last):\n",
      "  File \"C:\\Users\\user\\Anaconda3\\lib\\threading.py\", line 916, in _bootstrap_inner\n",
      "    self.run()\n",
      "  File \"C:\\Users\\user\\Anaconda3\\lib\\site-packages\\nsepy\\commons.py\", line 132, in run\n",
      "    self.result = self._target(*self._args, **self._kwargs)\n",
      "  File \"C:\\Users\\user\\Anaconda3\\lib\\site-packages\\nsepy\\history.py\", line 135, in get_history\n",
      "    return get_history_quanta(**kwargs)\n",
      "  File \"C:\\Users\\user\\Anaconda3\\lib\\site-packages\\nsepy\\history.py\", line 138, in get_history_quanta\n",
      "    url, params, schema, headers, scaling = validate_params(**kwargs)\n",
      "  File \"C:\\Users\\user\\Anaconda3\\lib\\site-packages\\nsepy\\history.py\", line 240, in validate_params\n",
      "    params['symbolCount'] = get_symbol_count(symbol)\n",
      "  File \"C:\\Users\\user\\Anaconda3\\lib\\site-packages\\nsepy\\urls.py\", line 35, in get_symbol_count\n",
      "    symbol_count[symbol] = cnt\n",
      "  File \"C:\\Users\\user\\Anaconda3\\lib\\site-packages\\pandas\\core\\generic.py\", line 879, in __hash__\n",
      "    ' hashed'.format(self.__class__.__name__))\n",
      "TypeError: 'Series' objects are mutable, thus they cannot be hashed\n",
      "\n",
      "Exception in thread Thread-28:\n",
      "Traceback (most recent call last):\n",
      "  File \"C:\\Users\\user\\Anaconda3\\lib\\site-packages\\nsepy\\urls.py\", line 32, in get_symbol_count\n",
      "    return symbol_count[symbol]\n",
      "  File \"C:\\Users\\user\\Anaconda3\\lib\\site-packages\\pandas\\core\\generic.py\", line 879, in __hash__\n",
      "    ' hashed'.format(self.__class__.__name__))\n",
      "TypeError: 'Series' objects are mutable, thus they cannot be hashed\n",
      "\n",
      "During handling of the above exception, another exception occurred:\n",
      "\n",
      "Traceback (most recent call last):\n",
      "  File \"C:\\Users\\user\\Anaconda3\\lib\\threading.py\", line 916, in _bootstrap_inner\n",
      "    self.run()\n",
      "  File \"C:\\Users\\user\\Anaconda3\\lib\\site-packages\\nsepy\\commons.py\", line 132, in run\n",
      "    self.result = self._target(*self._args, **self._kwargs)\n",
      "  File \"C:\\Users\\user\\Anaconda3\\lib\\site-packages\\nsepy\\history.py\", line 135, in get_history\n",
      "    return get_history_quanta(**kwargs)\n",
      "  File \"C:\\Users\\user\\Anaconda3\\lib\\site-packages\\nsepy\\history.py\", line 138, in get_history_quanta\n",
      "    url, params, schema, headers, scaling = validate_params(**kwargs)\n",
      "  File \"C:\\Users\\user\\Anaconda3\\lib\\site-packages\\nsepy\\history.py\", line 240, in validate_params\n",
      "    params['symbolCount'] = get_symbol_count(symbol)\n",
      "  File \"C:\\Users\\user\\Anaconda3\\lib\\site-packages\\nsepy\\urls.py\", line 35, in get_symbol_count\n",
      "    symbol_count[symbol] = cnt\n",
      "  File \"C:\\Users\\user\\Anaconda3\\lib\\site-packages\\pandas\\core\\generic.py\", line 879, in __hash__\n",
      "    ' hashed'.format(self.__class__.__name__))\n",
      "TypeError: 'Series' objects are mutable, thus they cannot be hashed\n",
      "\n",
      "Exception in thread Thread-27:\n",
      "Traceback (most recent call last):\n",
      "  File \"C:\\Users\\user\\Anaconda3\\lib\\threading.py\", line 916, in _bootstrap_inner\n",
      "    self.run()\n",
      "  File \"C:\\Users\\user\\Anaconda3\\lib\\site-packages\\nsepy\\commons.py\", line 132, in run\n",
      "    self.result = self._target(*self._args, **self._kwargs)\n",
      "  File \"C:\\Users\\user\\Anaconda3\\lib\\site-packages\\nsepy\\history.py\", line 133, in get_history\n",
      "    return pd.concat((t1.result, t2.result))\n",
      "AttributeError: 'ThreadReturns' object has no attribute 'result'\n",
      "\n"
     ]
    },
    {
     "ename": "AttributeError",
     "evalue": "'ThreadReturns' object has no attribute 'result'",
     "output_type": "error",
     "traceback": [
      "\u001b[1;31m---------------------------------------------------------------------------\u001b[0m",
      "\u001b[1;31mAttributeError\u001b[0m                            Traceback (most recent call last)",
      "\u001b[1;32m<ipython-input-20-46956de4d830>\u001b[0m in \u001b[0;36m<module>\u001b[1;34m()\u001b[0m\n\u001b[0;32m      8\u001b[0m \u001b[1;32mimport\u001b[0m \u001b[0mdatetime\u001b[0m\u001b[1;33m\u001b[0m\u001b[0m\n\u001b[0;32m      9\u001b[0m \u001b[1;33m\u001b[0m\u001b[0m\n\u001b[1;32m---> 10\u001b[1;33m \u001b[0ms_hist\u001b[0m\u001b[1;33m=\u001b[0m\u001b[0mget_history\u001b[0m\u001b[1;33m(\u001b[0m\u001b[0msymbol\u001b[0m\u001b[1;33m=\u001b[0m\u001b[0mstock_code\u001b[0m\u001b[1;33m,\u001b[0m\u001b[0mstart\u001b[0m\u001b[1;33m=\u001b[0m\u001b[0mdate\u001b[0m\u001b[1;33m(\u001b[0m\u001b[0myear\u001b[0m\u001b[1;33m,\u001b[0m\u001b[0mmonth\u001b[0m\u001b[1;33m,\u001b[0m\u001b[0mday\u001b[0m\u001b[1;33m)\u001b[0m\u001b[1;33m,\u001b[0m\u001b[0mend\u001b[0m\u001b[1;33m=\u001b[0m\u001b[0mdate\u001b[0m\u001b[1;33m(\u001b[0m\u001b[0mend_year\u001b[0m\u001b[1;33m,\u001b[0m\u001b[0mmonth\u001b[0m\u001b[1;33m,\u001b[0m\u001b[0mday\u001b[0m\u001b[1;33m)\u001b[0m\u001b[1;33m)\u001b[0m\u001b[1;33m\u001b[0m\u001b[0m\n\u001b[0m\u001b[0;32m     11\u001b[0m \u001b[0ms_hist\u001b[0m\u001b[1;33m.\u001b[0m\u001b[0mhead\u001b[0m\u001b[1;33m(\u001b[0m\u001b[1;33m)\u001b[0m\u001b[1;33m\u001b[0m\u001b[0m\n",
      "\u001b[1;32m~\\Anaconda3\\lib\\site-packages\\nsepy\\history.py\u001b[0m in \u001b[0;36mget_history\u001b[1;34m(symbol, start, end, index, futures, option_type, expiry_date, strike_price, series)\u001b[0m\n\u001b[0;32m    131\u001b[0m         \u001b[0mt1\u001b[0m\u001b[1;33m.\u001b[0m\u001b[0mjoin\u001b[0m\u001b[1;33m(\u001b[0m\u001b[1;33m)\u001b[0m\u001b[1;33m\u001b[0m\u001b[0m\n\u001b[0;32m    132\u001b[0m         \u001b[0mt2\u001b[0m\u001b[1;33m.\u001b[0m\u001b[0mjoin\u001b[0m\u001b[1;33m(\u001b[0m\u001b[1;33m)\u001b[0m\u001b[1;33m\u001b[0m\u001b[0m\n\u001b[1;32m--> 133\u001b[1;33m         \u001b[1;32mreturn\u001b[0m \u001b[0mpd\u001b[0m\u001b[1;33m.\u001b[0m\u001b[0mconcat\u001b[0m\u001b[1;33m(\u001b[0m\u001b[1;33m(\u001b[0m\u001b[0mt1\u001b[0m\u001b[1;33m.\u001b[0m\u001b[0mresult\u001b[0m\u001b[1;33m,\u001b[0m \u001b[0mt2\u001b[0m\u001b[1;33m.\u001b[0m\u001b[0mresult\u001b[0m\u001b[1;33m)\u001b[0m\u001b[1;33m)\u001b[0m\u001b[1;33m\u001b[0m\u001b[0m\n\u001b[0m\u001b[0;32m    134\u001b[0m     \u001b[1;32melse\u001b[0m\u001b[1;33m:\u001b[0m\u001b[1;33m\u001b[0m\u001b[0m\n\u001b[0;32m    135\u001b[0m         \u001b[1;32mreturn\u001b[0m \u001b[0mget_history_quanta\u001b[0m\u001b[1;33m(\u001b[0m\u001b[1;33m**\u001b[0m\u001b[0mkwargs\u001b[0m\u001b[1;33m)\u001b[0m\u001b[1;33m\u001b[0m\u001b[0m\n",
      "\u001b[1;31mAttributeError\u001b[0m: 'ThreadReturns' object has no attribute 'result'"
     ]
    }
   ],
   "source": [
    "#getting stok history data in required format:\n",
    "#year = 2016\n",
    "#day = 20\n",
    "#month = 8\n",
    "#end_year = year+1\n",
    "from nsepy import get_history\n",
    "from datetime import date\n",
    "import datetime\n",
    "\n",
    "s_hist=get_history(symbol=stock_code,start=date(year,month,day),end=date(end_year,month,day))\n",
    "s_hist.head()"
   ]
  },
  {
   "cell_type": "code",
   "execution_count": null,
   "metadata": {
    "collapsed": true
   },
   "outputs": [],
   "source": [
    "#from nsepy import get_history\n",
    "#from datetime import date\n",
    "#import pandas as pd\n",
    "#import datetime\n",
    "#get_history(symbol=\"CIPLA\",start=date(2016,8,20),end=date(2017,8,20))"
   ]
  },
  {
   "cell_type": "markdown",
   "metadata": {},
   "source": [
    "# #Creating difference column:"
   ]
  },
  {
   "cell_type": "code",
   "execution_count": 21,
   "metadata": {},
   "outputs": [
    {
     "data": {
      "text/html": [
       "<div>\n",
       "<style>\n",
       "    .dataframe thead tr:only-child th {\n",
       "        text-align: right;\n",
       "    }\n",
       "\n",
       "    .dataframe thead th {\n",
       "        text-align: left;\n",
       "    }\n",
       "\n",
       "    .dataframe tbody tr th {\n",
       "        vertical-align: top;\n",
       "    }\n",
       "</style>\n",
       "<table border=\"1\" class=\"dataframe\">\n",
       "  <thead>\n",
       "    <tr style=\"text-align: right;\">\n",
       "      <th></th>\n",
       "      <th>Symbol</th>\n",
       "      <th>Series</th>\n",
       "      <th>Prev Close</th>\n",
       "      <th>Open</th>\n",
       "      <th>High</th>\n",
       "      <th>Low</th>\n",
       "      <th>Last</th>\n",
       "      <th>Close</th>\n",
       "      <th>VWAP</th>\n",
       "      <th>Volume</th>\n",
       "      <th>Turnover</th>\n",
       "      <th>Trades</th>\n",
       "      <th>Deliverable Volume</th>\n",
       "      <th>%Deliverble</th>\n",
       "    </tr>\n",
       "    <tr>\n",
       "      <th>Date</th>\n",
       "      <th></th>\n",
       "      <th></th>\n",
       "      <th></th>\n",
       "      <th></th>\n",
       "      <th></th>\n",
       "      <th></th>\n",
       "      <th></th>\n",
       "      <th></th>\n",
       "      <th></th>\n",
       "      <th></th>\n",
       "      <th></th>\n",
       "      <th></th>\n",
       "      <th></th>\n",
       "      <th></th>\n",
       "    </tr>\n",
       "  </thead>\n",
       "  <tbody>\n",
       "    <tr>\n",
       "      <th>2014-05-14</th>\n",
       "      <td>PETRONET</td>\n",
       "      <td>EQ</td>\n",
       "      <td>141.10</td>\n",
       "      <td>140.6</td>\n",
       "      <td>143.45</td>\n",
       "      <td>139.25</td>\n",
       "      <td>142.00</td>\n",
       "      <td>142.00</td>\n",
       "      <td>141.82</td>\n",
       "      <td>1064242</td>\n",
       "      <td>1.509301e+13</td>\n",
       "      <td>21980</td>\n",
       "      <td>692096</td>\n",
       "      <td>0.6503</td>\n",
       "    </tr>\n",
       "    <tr>\n",
       "      <th>2014-05-15</th>\n",
       "      <td>PETRONET</td>\n",
       "      <td>EQ</td>\n",
       "      <td>142.00</td>\n",
       "      <td>141.1</td>\n",
       "      <td>143.45</td>\n",
       "      <td>138.00</td>\n",
       "      <td>138.00</td>\n",
       "      <td>138.50</td>\n",
       "      <td>139.85</td>\n",
       "      <td>934640</td>\n",
       "      <td>1.307107e+13</td>\n",
       "      <td>21324</td>\n",
       "      <td>539215</td>\n",
       "      <td>0.5769</td>\n",
       "    </tr>\n",
       "    <tr>\n",
       "      <th>2014-05-16</th>\n",
       "      <td>PETRONET</td>\n",
       "      <td>EQ</td>\n",
       "      <td>138.50</td>\n",
       "      <td>140.0</td>\n",
       "      <td>143.75</td>\n",
       "      <td>136.05</td>\n",
       "      <td>140.50</td>\n",
       "      <td>140.55</td>\n",
       "      <td>140.66</td>\n",
       "      <td>2871045</td>\n",
       "      <td>4.038472e+13</td>\n",
       "      <td>27111</td>\n",
       "      <td>2092957</td>\n",
       "      <td>0.7290</td>\n",
       "    </tr>\n",
       "    <tr>\n",
       "      <th>2014-05-19</th>\n",
       "      <td>PETRONET</td>\n",
       "      <td>EQ</td>\n",
       "      <td>140.55</td>\n",
       "      <td>143.0</td>\n",
       "      <td>153.75</td>\n",
       "      <td>140.55</td>\n",
       "      <td>152.75</td>\n",
       "      <td>152.95</td>\n",
       "      <td>149.15</td>\n",
       "      <td>3238364</td>\n",
       "      <td>4.829894e+13</td>\n",
       "      <td>30923</td>\n",
       "      <td>1782072</td>\n",
       "      <td>0.5503</td>\n",
       "    </tr>\n",
       "    <tr>\n",
       "      <th>2014-05-20</th>\n",
       "      <td>PETRONET</td>\n",
       "      <td>EQ</td>\n",
       "      <td>152.95</td>\n",
       "      <td>155.0</td>\n",
       "      <td>159.70</td>\n",
       "      <td>150.55</td>\n",
       "      <td>151.75</td>\n",
       "      <td>151.40</td>\n",
       "      <td>154.78</td>\n",
       "      <td>2650087</td>\n",
       "      <td>4.101717e+13</td>\n",
       "      <td>13850</td>\n",
       "      <td>1717902</td>\n",
       "      <td>0.6482</td>\n",
       "    </tr>\n",
       "  </tbody>\n",
       "</table>\n",
       "</div>"
      ],
      "text/plain": [
       "              Symbol Series  Prev Close   Open    High     Low    Last  \\\n",
       "Date                                                                     \n",
       "2014-05-14  PETRONET     EQ      141.10  140.6  143.45  139.25  142.00   \n",
       "2014-05-15  PETRONET     EQ      142.00  141.1  143.45  138.00  138.00   \n",
       "2014-05-16  PETRONET     EQ      138.50  140.0  143.75  136.05  140.50   \n",
       "2014-05-19  PETRONET     EQ      140.55  143.0  153.75  140.55  152.75   \n",
       "2014-05-20  PETRONET     EQ      152.95  155.0  159.70  150.55  151.75   \n",
       "\n",
       "             Close    VWAP   Volume      Turnover  Trades  Deliverable Volume  \\\n",
       "Date                                                                            \n",
       "2014-05-14  142.00  141.82  1064242  1.509301e+13   21980              692096   \n",
       "2014-05-15  138.50  139.85   934640  1.307107e+13   21324              539215   \n",
       "2014-05-16  140.55  140.66  2871045  4.038472e+13   27111             2092957   \n",
       "2014-05-19  152.95  149.15  3238364  4.829894e+13   30923             1782072   \n",
       "2014-05-20  151.40  154.78  2650087  4.101717e+13   13850             1717902   \n",
       "\n",
       "            %Deliverble  \n",
       "Date                     \n",
       "2014-05-14       0.6503  \n",
       "2014-05-15       0.5769  \n",
       "2014-05-16       0.7290  \n",
       "2014-05-19       0.5503  \n",
       "2014-05-20       0.6482  "
      ]
     },
     "execution_count": 21,
     "metadata": {},
     "output_type": "execute_result"
    }
   ],
   "source": [
    "s_hist.head()"
   ]
  },
  {
   "cell_type": "code",
   "execution_count": 22,
   "metadata": {},
   "outputs": [
    {
     "data": {
      "text/html": [
       "<div>\n",
       "<style>\n",
       "    .dataframe thead tr:only-child th {\n",
       "        text-align: right;\n",
       "    }\n",
       "\n",
       "    .dataframe thead th {\n",
       "        text-align: left;\n",
       "    }\n",
       "\n",
       "    .dataframe tbody tr th {\n",
       "        vertical-align: top;\n",
       "    }\n",
       "</style>\n",
       "<table border=\"1\" class=\"dataframe\">\n",
       "  <thead>\n",
       "    <tr style=\"text-align: right;\">\n",
       "      <th></th>\n",
       "      <th>Symbol</th>\n",
       "      <th>Series</th>\n",
       "      <th>Prev Close</th>\n",
       "      <th>Open</th>\n",
       "      <th>High</th>\n",
       "      <th>Low</th>\n",
       "      <th>Last</th>\n",
       "      <th>Close</th>\n",
       "      <th>VWAP</th>\n",
       "      <th>Volume</th>\n",
       "      <th>Turnover</th>\n",
       "      <th>Trades</th>\n",
       "      <th>Deliverable Volume</th>\n",
       "      <th>%Deliverble</th>\n",
       "    </tr>\n",
       "    <tr>\n",
       "      <th>Date</th>\n",
       "      <th></th>\n",
       "      <th></th>\n",
       "      <th></th>\n",
       "      <th></th>\n",
       "      <th></th>\n",
       "      <th></th>\n",
       "      <th></th>\n",
       "      <th></th>\n",
       "      <th></th>\n",
       "      <th></th>\n",
       "      <th></th>\n",
       "      <th></th>\n",
       "      <th></th>\n",
       "      <th></th>\n",
       "    </tr>\n",
       "  </thead>\n",
       "  <tbody>\n",
       "    <tr>\n",
       "      <th>2015-01-08</th>\n",
       "      <td>PETRONET</td>\n",
       "      <td>EQ</td>\n",
       "      <td>209.6</td>\n",
       "      <td>210.25</td>\n",
       "      <td>221.9</td>\n",
       "      <td>210.25</td>\n",
       "      <td>216.95</td>\n",
       "      <td>217.2</td>\n",
       "      <td>217.33</td>\n",
       "      <td>2594619</td>\n",
       "      <td>5.638767e+13</td>\n",
       "      <td>39938</td>\n",
       "      <td>1050833</td>\n",
       "      <td>0.405</td>\n",
       "    </tr>\n",
       "  </tbody>\n",
       "</table>\n",
       "</div>"
      ],
      "text/plain": [
       "              Symbol Series  Prev Close    Open   High     Low    Last  Close  \\\n",
       "Date                                                                            \n",
       "2015-01-08  PETRONET     EQ       209.6  210.25  221.9  210.25  216.95  217.2   \n",
       "\n",
       "              VWAP   Volume      Turnover  Trades  Deliverable Volume  \\\n",
       "Date                                                                    \n",
       "2015-01-08  217.33  2594619  5.638767e+13   39938             1050833   \n",
       "\n",
       "            %Deliverble  \n",
       "Date                     \n",
       "2015-01-08        0.405  "
      ]
     },
     "execution_count": 22,
     "metadata": {},
     "output_type": "execute_result"
    }
   ],
   "source": [
    "# Credit: https://stackoverflow.com/a/43112103\n",
    "# To get the closest value\n",
    "\n",
    "closest_value = s_hist.iloc[(s_hist['High']-st_target).abs().argsort()[:1]]\n",
    "\n",
    "# Trying to get the closest value as a number for comparion against target\n",
    "#closest_value_price = pd.to_numeric(closest_value[-1]).tolist()[0]\n",
    "\n",
    "(closest_value)\n",
    "\n"
   ]
  },
  {
   "cell_type": "code",
   "execution_count": 23,
   "metadata": {},
   "outputs": [
    {
     "data": {
      "text/plain": [
       "Date\n",
       "2015-01-08    221.9\n",
       "Name: High, dtype: float64"
      ]
     },
     "execution_count": 23,
     "metadata": {},
     "output_type": "execute_result"
    }
   ],
   "source": [
    "closest_value_p=closest_value['High']\n",
    "closest_value_p"
   ]
  },
  {
   "cell_type": "code",
   "execution_count": 24,
   "metadata": {},
   "outputs": [
    {
     "data": {
      "text/html": [
       "<div>\n",
       "<style>\n",
       "    .dataframe thead tr:only-child th {\n",
       "        text-align: right;\n",
       "    }\n",
       "\n",
       "    .dataframe thead th {\n",
       "        text-align: left;\n",
       "    }\n",
       "\n",
       "    .dataframe tbody tr th {\n",
       "        vertical-align: top;\n",
       "    }\n",
       "</style>\n",
       "<table border=\"1\" class=\"dataframe\">\n",
       "  <thead>\n",
       "    <tr style=\"text-align: right;\">\n",
       "      <th></th>\n",
       "      <th>Sl no</th>\n",
       "      <th>Date</th>\n",
       "      <th>Stock_Name</th>\n",
       "      <th>New Stock Name</th>\n",
       "      <th>NSE DESC</th>\n",
       "      <th>NSE CODE</th>\n",
       "      <th>Action</th>\n",
       "      <th>Target</th>\n",
       "      <th>Recommender</th>\n",
       "    </tr>\n",
       "  </thead>\n",
       "  <tbody>\n",
       "    <tr>\n",
       "      <th>51</th>\n",
       "      <td>7006</td>\n",
       "      <td>jun 03, 2015</td>\n",
       "      <td>pfc</td>\n",
       "      <td>PFC</td>\n",
       "      <td>POWER FINANCE CORPORATION</td>\n",
       "      <td>PFC</td>\n",
       "      <td>buy</td>\n",
       "      <td>300</td>\n",
       "      <td>firstcall research</td>\n",
       "    </tr>\n",
       "  </tbody>\n",
       "</table>\n",
       "</div>"
      ],
      "text/plain": [
       "    Sl no             Date Stock_Name New Stock Name  \\\n",
       "51   7006    jun 03, 2015         pfc            PFC   \n",
       "\n",
       "                     NSE DESC NSE CODE Action  Target           Recommender  \n",
       "51  POWER FINANCE CORPORATION      PFC    buy     300   firstcall research   "
      ]
     },
     "execution_count": 24,
     "metadata": {},
     "output_type": "execute_result"
    }
   ],
   "source": [
    "(recommendation)"
   ]
  },
  {
   "cell_type": "code",
   "execution_count": 25,
   "metadata": {
    "collapsed": true
   },
   "outputs": [],
   "source": [
    "merged_reco = pd.concat([recommendation.reset_index(drop=True), closest_value_p.reset_index(drop=True)], axis=1)"
   ]
  },
  {
   "cell_type": "code",
   "execution_count": 26,
   "metadata": {},
   "outputs": [
    {
     "data": {
      "text/html": [
       "<div>\n",
       "<style>\n",
       "    .dataframe thead tr:only-child th {\n",
       "        text-align: right;\n",
       "    }\n",
       "\n",
       "    .dataframe thead th {\n",
       "        text-align: left;\n",
       "    }\n",
       "\n",
       "    .dataframe tbody tr th {\n",
       "        vertical-align: top;\n",
       "    }\n",
       "</style>\n",
       "<table border=\"1\" class=\"dataframe\">\n",
       "  <thead>\n",
       "    <tr style=\"text-align: right;\">\n",
       "      <th></th>\n",
       "      <th>Sl no</th>\n",
       "      <th>Date</th>\n",
       "      <th>Stock_Name</th>\n",
       "      <th>New Stock Name</th>\n",
       "      <th>NSE DESC</th>\n",
       "      <th>NSE CODE</th>\n",
       "      <th>Action</th>\n",
       "      <th>Target</th>\n",
       "      <th>Recommender</th>\n",
       "      <th>High</th>\n",
       "      <th>ticker_date</th>\n",
       "    </tr>\n",
       "  </thead>\n",
       "  <tbody>\n",
       "    <tr>\n",
       "      <th>0</th>\n",
       "      <td>7006</td>\n",
       "      <td>jun 03, 2015</td>\n",
       "      <td>pfc</td>\n",
       "      <td>PFC</td>\n",
       "      <td>POWER FINANCE CORPORATION</td>\n",
       "      <td>PFC</td>\n",
       "      <td>buy</td>\n",
       "      <td>300</td>\n",
       "      <td>firstcall research</td>\n",
       "      <td>221.9</td>\n",
       "      <td>2015-01-08</td>\n",
       "    </tr>\n",
       "  </tbody>\n",
       "</table>\n",
       "</div>"
      ],
      "text/plain": [
       "   Sl no             Date Stock_Name New Stock Name  \\\n",
       "0   7006    jun 03, 2015         pfc            PFC   \n",
       "\n",
       "                    NSE DESC NSE CODE Action  Target           Recommender  \\\n",
       "0  POWER FINANCE CORPORATION      PFC    buy     300   firstcall research    \n",
       "\n",
       "    High ticker_date  \n",
       "0  221.9  2015-01-08  "
      ]
     },
     "metadata": {},
     "output_type": "display_data"
    }
   ],
   "source": [
    "merged_reco['ticker_date'] = closest_value_p.index\n",
    "display(merged_reco)\n",
    "\n",
    "# This has the entire reco with the closest price achieved and the date the particular price was achieved!!!!!"
   ]
  },
  {
   "cell_type": "code",
   "execution_count": 27,
   "metadata": {},
   "outputs": [
    {
     "data": {
      "text/html": [
       "<div>\n",
       "<style>\n",
       "    .dataframe thead tr:only-child th {\n",
       "        text-align: right;\n",
       "    }\n",
       "\n",
       "    .dataframe thead th {\n",
       "        text-align: left;\n",
       "    }\n",
       "\n",
       "    .dataframe tbody tr th {\n",
       "        vertical-align: top;\n",
       "    }\n",
       "</style>\n",
       "<table border=\"1\" class=\"dataframe\">\n",
       "  <thead>\n",
       "    <tr style=\"text-align: right;\">\n",
       "      <th></th>\n",
       "      <th>Sl no</th>\n",
       "      <th>Date</th>\n",
       "      <th>Stock_Name</th>\n",
       "      <th>New Stock Name</th>\n",
       "      <th>NSE DESC</th>\n",
       "      <th>NSE CODE</th>\n",
       "      <th>Action</th>\n",
       "      <th>Target</th>\n",
       "      <th>Recommender</th>\n",
       "      <th>High</th>\n",
       "      <th>ticker_date</th>\n",
       "      <th>Recommendation_Date</th>\n",
       "    </tr>\n",
       "  </thead>\n",
       "  <tbody>\n",
       "    <tr>\n",
       "      <th>0</th>\n",
       "      <td>7006</td>\n",
       "      <td>jun 03, 2015</td>\n",
       "      <td>pfc</td>\n",
       "      <td>PFC</td>\n",
       "      <td>POWER FINANCE CORPORATION</td>\n",
       "      <td>PFC</td>\n",
       "      <td>buy</td>\n",
       "      <td>300</td>\n",
       "      <td>firstcall research</td>\n",
       "      <td>221.9</td>\n",
       "      <td>2015-01-08</td>\n",
       "      <td>2015-06-03</td>\n",
       "    </tr>\n",
       "  </tbody>\n",
       "</table>\n",
       "</div>"
      ],
      "text/plain": [
       "   Sl no             Date Stock_Name New Stock Name  \\\n",
       "0   7006    jun 03, 2015         pfc            PFC   \n",
       "\n",
       "                    NSE DESC NSE CODE Action  Target           Recommender  \\\n",
       "0  POWER FINANCE CORPORATION      PFC    buy     300   firstcall research    \n",
       "\n",
       "    High ticker_date Recommendation_Date  \n",
       "0  221.9  2015-01-08          2015-06-03  "
      ]
     },
     "metadata": {},
     "output_type": "display_data"
    }
   ],
   "source": [
    "merged_reco['Recommendation_Date'] = recom_date\n",
    "display(merged_reco)\n"
   ]
  },
  {
   "cell_type": "code",
   "execution_count": 28,
   "metadata": {
    "collapsed": true
   },
   "outputs": [],
   "source": [
    "#merged_reco['Threshold_Target'] = merged_reco['Target']*0.9 #Threshold for the target"
   ]
  },
  {
   "cell_type": "code",
   "execution_count": 29,
   "metadata": {},
   "outputs": [
    {
     "data": {
      "text/html": [
       "<div>\n",
       "<style>\n",
       "    .dataframe thead tr:only-child th {\n",
       "        text-align: right;\n",
       "    }\n",
       "\n",
       "    .dataframe thead th {\n",
       "        text-align: left;\n",
       "    }\n",
       "\n",
       "    .dataframe tbody tr th {\n",
       "        vertical-align: top;\n",
       "    }\n",
       "</style>\n",
       "<table border=\"1\" class=\"dataframe\">\n",
       "  <thead>\n",
       "    <tr style=\"text-align: right;\">\n",
       "      <th></th>\n",
       "      <th>Sl no</th>\n",
       "      <th>Date</th>\n",
       "      <th>Stock_Name</th>\n",
       "      <th>New Stock Name</th>\n",
       "      <th>NSE DESC</th>\n",
       "      <th>NSE CODE</th>\n",
       "      <th>Action</th>\n",
       "      <th>Target</th>\n",
       "      <th>Recommender</th>\n",
       "      <th>High</th>\n",
       "      <th>ticker_date</th>\n",
       "      <th>Recommendation_Date</th>\n",
       "      <th>Target_Met</th>\n",
       "    </tr>\n",
       "  </thead>\n",
       "  <tbody>\n",
       "    <tr>\n",
       "      <th>0</th>\n",
       "      <td>7006</td>\n",
       "      <td>jun 03, 2015</td>\n",
       "      <td>pfc</td>\n",
       "      <td>PFC</td>\n",
       "      <td>POWER FINANCE CORPORATION</td>\n",
       "      <td>PFC</td>\n",
       "      <td>buy</td>\n",
       "      <td>300</td>\n",
       "      <td>firstcall research</td>\n",
       "      <td>221.9</td>\n",
       "      <td>2015-01-08</td>\n",
       "      <td>2015-06-03</td>\n",
       "      <td>False</td>\n",
       "    </tr>\n",
       "  </tbody>\n",
       "</table>\n",
       "</div>"
      ],
      "text/plain": [
       "   Sl no             Date Stock_Name New Stock Name  \\\n",
       "0   7006    jun 03, 2015         pfc            PFC   \n",
       "\n",
       "                    NSE DESC NSE CODE Action  Target           Recommender  \\\n",
       "0  POWER FINANCE CORPORATION      PFC    buy     300   firstcall research    \n",
       "\n",
       "    High ticker_date Recommendation_Date  Target_Met  \n",
       "0  221.9  2015-01-08          2015-06-03       False  "
      ]
     },
     "metadata": {},
     "output_type": "display_data"
    }
   ],
   "source": [
    "merged_reco['Target_Met'] = merged_reco['High'] >= merged_reco['Target']\n",
    "display(merged_reco)\n",
    "\n"
   ]
  },
  {
   "cell_type": "code",
   "execution_count": 30,
   "metadata": {
    "collapsed": true
   },
   "outputs": [],
   "source": [
    "#merged_reco['Threshold_Target_Met'] = merged_reco['High'] >= merged_reco['Threshold_Target']\n",
    "#display(merged_reco)"
   ]
  },
  {
   "cell_type": "code",
   "execution_count": 31,
   "metadata": {},
   "outputs": [
    {
     "data": {
      "text/html": [
       "<div>\n",
       "<style>\n",
       "    .dataframe thead tr:only-child th {\n",
       "        text-align: right;\n",
       "    }\n",
       "\n",
       "    .dataframe thead th {\n",
       "        text-align: left;\n",
       "    }\n",
       "\n",
       "    .dataframe tbody tr th {\n",
       "        vertical-align: top;\n",
       "    }\n",
       "</style>\n",
       "<table border=\"1\" class=\"dataframe\">\n",
       "  <thead>\n",
       "    <tr style=\"text-align: right;\">\n",
       "      <th></th>\n",
       "      <th>Sl no</th>\n",
       "      <th>Date</th>\n",
       "      <th>Stock_Name</th>\n",
       "      <th>New Stock Name</th>\n",
       "      <th>NSE DESC</th>\n",
       "      <th>NSE CODE</th>\n",
       "      <th>Action</th>\n",
       "      <th>Target</th>\n",
       "      <th>Recommender</th>\n",
       "      <th>High</th>\n",
       "      <th>ticker_date</th>\n",
       "      <th>Recommendation_Date</th>\n",
       "      <th>Target_Met</th>\n",
       "      <th>Days_For_Target_Met</th>\n",
       "    </tr>\n",
       "  </thead>\n",
       "  <tbody>\n",
       "    <tr>\n",
       "      <th>0</th>\n",
       "      <td>7006</td>\n",
       "      <td>jun 03, 2015</td>\n",
       "      <td>pfc</td>\n",
       "      <td>PFC</td>\n",
       "      <td>POWER FINANCE CORPORATION</td>\n",
       "      <td>PFC</td>\n",
       "      <td>buy</td>\n",
       "      <td>300</td>\n",
       "      <td>firstcall research</td>\n",
       "      <td>221.9</td>\n",
       "      <td>2015-01-08</td>\n",
       "      <td>2015-06-03</td>\n",
       "      <td>False</td>\n",
       "      <td>NaT</td>\n",
       "    </tr>\n",
       "  </tbody>\n",
       "</table>\n",
       "</div>"
      ],
      "text/plain": [
       "   Sl no             Date Stock_Name New Stock Name  \\\n",
       "0   7006    jun 03, 2015         pfc            PFC   \n",
       "\n",
       "                    NSE DESC NSE CODE Action  Target           Recommender  \\\n",
       "0  POWER FINANCE CORPORATION      PFC    buy     300   firstcall research    \n",
       "\n",
       "    High ticker_date Recommendation_Date  Target_Met Days_For_Target_Met  \n",
       "0  221.9  2015-01-08          2015-06-03       False                 NaT  "
      ]
     },
     "metadata": {},
     "output_type": "display_data"
    }
   ],
   "source": [
    "import numpy as np\n",
    "\n",
    "merged_reco['Days_For_Target_Met'] = merged_reco['ticker_date']- merged_reco['Recommendation_Date']\n",
    "merged_reco['Days_For_Target_Met'] = np.where(merged_reco['Target_Met'], merged_reco['Days_For_Target_Met'], np.nan)\n",
    "display(merged_reco)"
   ]
  },
  {
   "cell_type": "code",
   "execution_count": 32,
   "metadata": {
    "collapsed": true
   },
   "outputs": [],
   "source": [
    "#merged_reco['Days_For_Threshold_Target_Met'] = merged_reco['ticker_date']- merged_reco['Recommendation_Date']\n",
    "#merged_reco['Days_For_Threshold_Target_Met'] = np.where(merged_reco['Threshold_Target_Met'], merged_reco['Days_For_Target_Met'], np.nan)\n",
    "#display(merged_reco)"
   ]
  },
  {
   "cell_type": "markdown",
   "metadata": {},
   "source": [
    "## Iterating to find the new columns to money control\n"
   ]
  },
  {
   "cell_type": "code",
   "execution_count": 33,
   "metadata": {},
   "outputs": [
    {
     "name": "stdout",
     "output_type": "stream",
     "text": [
      "The index is:  0\n",
      "The index is:  1\n",
      "The index is:  2\n",
      "The index is:  3\n",
      "The index is:  4\n",
      "The index is:  5\n",
      "The index is:  6\n",
      "The index is:  7\n",
      "The index is:  8\n",
      "The index is:  9\n"
     ]
    }
   ],
   "source": [
    "#function to iterate overs rows:\n",
    "#money.index #to get index of dataframe\n",
    "#money.set_index(\"Stock_Code\", inplace=True) #setting index for money data as stock_code column\n",
    "#days = []\n",
    "#date = []\n",
    "#n_value = []\n",
    "\n",
    "from nsepy import get_history\n",
    "from datetime import date\n",
    "import datetime\n",
    "import numpy as np\n",
    "\n",
    "df = pd.DataFrame()\n",
    "\n",
    "for index, row in money.head(10).iterrows():\n",
    "       # from nsepy import get_history\n",
    "       # from datetime import date\n",
    "       # import datetime\n",
    "       # import numpy as np\n",
    "        recommendation =  money[index:index+1] #subsetting each row\n",
    "        print(\"The index is: \", index) #printing index\n",
    "        stock_code= recommendation['NSE CODE'].iloc[0] #taking the value in nse code\n",
    "        start_date= recommendation['Date'].iloc[0] #taking the date value out\n",
    "        start_date = start_date.replace(',', '')  #modifying as jan 15,2016 to jan 15 2016\n",
    "        start_date = pd.to_datetime(start_date)   #changing to 01/15/2016\n",
    "        recom_date = start_date.date() \n",
    "        year = recom_date.year #pulling year out\n",
    "        month = recom_date.month #pulling month out\n",
    "        day = recom_date.day # pulling day out\n",
    "        end_year = int(year)+1 # passing end year as start year +1\n",
    "        st_target= recommendation['Target'].iloc[0] #value for target for given stock code\n",
    "        s_hist=get_history(symbol=stock_code,start=date(year,month,day),end=date(end_year,month,day)) # getting out nse history for that\n",
    "        #stock between the time period\n",
    "        \n",
    "        #taking the ones for which s_hist has data\n",
    "        if len(s_hist.index)>0:\n",
    "            closest_value = s_hist.iloc[(s_hist['High']-st_target).abs().argsort()[:1]]  #finding out the closest stock value in the 1year period.Extracting out that row\n",
    "            closest_value_p= closest_value['High'] #subsetting only high value with index\n",
    "            # Trying to get the closest value as a number for comparion against target\n",
    "            #closest_value_price = pd.to_numeric(closest_value.iloc[-1]).tolist()[0]\n",
    "\n",
    "            merged_reco = pd.concat([recommendation.reset_index(drop=True), closest_value_p.reset_index(drop=True)], axis=1) #concatinating two tables money dataframe and closest value\n",
    "            merged_reco['ticker_date'] = np.where(closest_value['High'],closest_value.index,np.nan) #taking the index of closest value\n",
    "            merged_reco['Recommendation_Date'] = recom_date\n",
    "\n",
    "           # merged_reco['Threshold_Target'] = merged_reco['Target']*0.9 #Threshold for the target\n",
    "            merged_reco['Target_Met'] = merged_reco['High'] >= merged_reco['Target']\n",
    "           # merged_reco['Threshold_Target_Met'] = merged_reco['High'] >= merged_reco['Threshold_Target']\n",
    "            merged_reco['Days_For_Target_Met'] = merged_reco['ticker_date']- merged_reco['Recommendation_Date']\n",
    "            merged_reco['Days_For_Target_Met'] = np.where(merged_reco['Target_Met'], merged_reco['Days_For_Target_Met'], np.nan)\n",
    "\n",
    "            #merged_reco['Days_For_Threshold_Target_Met'] = merged_reco['ticker_date']- merged_reco['Recommendation_Date']\n",
    "            #merged_reco['Days_For_Threshold_Target_Met'] = np.where(merged_reco['Threshold_Target_Met'], merged_reco['Days_For_Target_Met'], np.nan)\n",
    "            df = df.append(merged_reco)\n",
    "   \n",
    "            \n",
    "    \n"
   ]
  },
  {
   "cell_type": "code",
   "execution_count": 34,
   "metadata": {},
   "outputs": [
    {
     "data": {
      "text/html": [
       "<div>\n",
       "<style>\n",
       "    .dataframe thead tr:only-child th {\n",
       "        text-align: right;\n",
       "    }\n",
       "\n",
       "    .dataframe thead th {\n",
       "        text-align: left;\n",
       "    }\n",
       "\n",
       "    .dataframe tbody tr th {\n",
       "        vertical-align: top;\n",
       "    }\n",
       "</style>\n",
       "<table border=\"1\" class=\"dataframe\">\n",
       "  <thead>\n",
       "    <tr style=\"text-align: right;\">\n",
       "      <th></th>\n",
       "      <th>Sl no</th>\n",
       "      <th>Date</th>\n",
       "      <th>Stock_Name</th>\n",
       "      <th>New Stock Name</th>\n",
       "      <th>NSE DESC</th>\n",
       "      <th>NSE CODE</th>\n",
       "      <th>Action</th>\n",
       "      <th>Target</th>\n",
       "      <th>Recommender</th>\n",
       "    </tr>\n",
       "  </thead>\n",
       "  <tbody>\n",
       "    <tr>\n",
       "      <th>50</th>\n",
       "      <td>611</td>\n",
       "      <td>jul 31, 2018</td>\n",
       "      <td>petronet lng ltd</td>\n",
       "      <td>PETRONET LNG LTD</td>\n",
       "      <td>PETRONET LNG</td>\n",
       "      <td>PETRONET</td>\n",
       "      <td>buy</td>\n",
       "      <td>267</td>\n",
       "      <td>kotak securities</td>\n",
       "    </tr>\n",
       "  </tbody>\n",
       "</table>\n",
       "</div>"
      ],
      "text/plain": [
       "    Sl no             Date          Stock_Name    New Stock Name  \\\n",
       "50    611    jul 31, 2018    petronet lng ltd   PETRONET LNG LTD   \n",
       "\n",
       "        NSE DESC  NSE CODE Action  Target         Recommender  \n",
       "50  PETRONET LNG  PETRONET    buy     267   kotak securities   "
      ]
     },
     "execution_count": 34,
     "metadata": {},
     "output_type": "execute_result"
    }
   ],
   "source": [
    "money[50:50+1]"
   ]
  },
  {
   "cell_type": "code",
   "execution_count": 35,
   "metadata": {},
   "outputs": [
    {
     "data": {
      "text/html": [
       "<div>\n",
       "<style>\n",
       "    .dataframe thead tr:only-child th {\n",
       "        text-align: right;\n",
       "    }\n",
       "\n",
       "    .dataframe thead th {\n",
       "        text-align: left;\n",
       "    }\n",
       "\n",
       "    .dataframe tbody tr th {\n",
       "        vertical-align: top;\n",
       "    }\n",
       "</style>\n",
       "<table border=\"1\" class=\"dataframe\">\n",
       "  <thead>\n",
       "    <tr style=\"text-align: right;\">\n",
       "      <th></th>\n",
       "      <th>Sl no</th>\n",
       "      <th>Date</th>\n",
       "      <th>Stock_Name</th>\n",
       "      <th>New Stock Name</th>\n",
       "      <th>NSE DESC</th>\n",
       "      <th>NSE CODE</th>\n",
       "      <th>Action</th>\n",
       "      <th>Target</th>\n",
       "      <th>Recommender</th>\n",
       "      <th>High</th>\n",
       "      <th>ticker_date</th>\n",
       "      <th>Recommendation_Date</th>\n",
       "      <th>Target_Met</th>\n",
       "      <th>Days_For_Target_Met</th>\n",
       "    </tr>\n",
       "  </thead>\n",
       "  <tbody>\n",
       "    <tr>\n",
       "      <th>0</th>\n",
       "      <td>8144</td>\n",
       "      <td>sep 15, 2014</td>\n",
       "      <td>petronet lng</td>\n",
       "      <td>PETRONET LNG</td>\n",
       "      <td>PETRONET LNG</td>\n",
       "      <td>PETRONET</td>\n",
       "      <td>sell</td>\n",
       "      <td>185</td>\n",
       "      <td>kotak securities</td>\n",
       "      <td>185.00</td>\n",
       "      <td>2015-03-04</td>\n",
       "      <td>2014-09-15</td>\n",
       "      <td>True</td>\n",
       "      <td>170 days</td>\n",
       "    </tr>\n",
       "    <tr>\n",
       "      <th>0</th>\n",
       "      <td>8571</td>\n",
       "      <td>aug 06, 2014</td>\n",
       "      <td>petronet lng</td>\n",
       "      <td>PETRONET LNG</td>\n",
       "      <td>PETRONET LNG</td>\n",
       "      <td>PETRONET</td>\n",
       "      <td>hold</td>\n",
       "      <td>170</td>\n",
       "      <td>emkay</td>\n",
       "      <td>170.35</td>\n",
       "      <td>2014-08-07</td>\n",
       "      <td>2014-08-06</td>\n",
       "      <td>True</td>\n",
       "      <td>1 days</td>\n",
       "    </tr>\n",
       "    <tr>\n",
       "      <th>0</th>\n",
       "      <td>9170</td>\n",
       "      <td>jun 23, 2014</td>\n",
       "      <td>petronet lng</td>\n",
       "      <td>PETRONET LNG</td>\n",
       "      <td>PETRONET LNG</td>\n",
       "      <td>PETRONET</td>\n",
       "      <td>buy</td>\n",
       "      <td>195</td>\n",
       "      <td>icicidirect.com</td>\n",
       "      <td>194.90</td>\n",
       "      <td>2014-09-11</td>\n",
       "      <td>2014-06-23</td>\n",
       "      <td>False</td>\n",
       "      <td>NaT</td>\n",
       "    </tr>\n",
       "    <tr>\n",
       "      <th>0</th>\n",
       "      <td>9674</td>\n",
       "      <td>may 14, 2014</td>\n",
       "      <td>petronet lng</td>\n",
       "      <td>PETRONET LNG</td>\n",
       "      <td>PETRONET LNG</td>\n",
       "      <td>PETRONET</td>\n",
       "      <td>hold</td>\n",
       "      <td>152</td>\n",
       "      <td>sushil finance</td>\n",
       "      <td>152.00</td>\n",
       "      <td>2014-05-27</td>\n",
       "      <td>2014-05-14</td>\n",
       "      <td>True</td>\n",
       "      <td>13 days</td>\n",
       "    </tr>\n",
       "    <tr>\n",
       "      <th>0</th>\n",
       "      <td>9762</td>\n",
       "      <td>may 06, 2014</td>\n",
       "      <td>petronet lng</td>\n",
       "      <td>PETRONET LNG</td>\n",
       "      <td>PETRONET LNG</td>\n",
       "      <td>PETRONET</td>\n",
       "      <td>reduce</td>\n",
       "      <td>143</td>\n",
       "      <td>krchoksey</td>\n",
       "      <td>143.45</td>\n",
       "      <td>2014-05-14</td>\n",
       "      <td>2014-05-06</td>\n",
       "      <td>True</td>\n",
       "      <td>8 days</td>\n",
       "    </tr>\n",
       "  </tbody>\n",
       "</table>\n",
       "</div>"
      ],
      "text/plain": [
       "   Sl no             Date     Stock_Name New Stock Name      NSE DESC  \\\n",
       "0   8144    sep 15, 2014    petronet lng   PETRONET LNG  PETRONET LNG   \n",
       "0   8571    aug 06, 2014    petronet lng   PETRONET LNG  PETRONET LNG   \n",
       "0   9170    jun 23, 2014    petronet lng   PETRONET LNG  PETRONET LNG   \n",
       "0   9674    may 14, 2014    petronet lng   PETRONET LNG  PETRONET LNG   \n",
       "0   9762    may 06, 2014    petronet lng   PETRONET LNG  PETRONET LNG   \n",
       "\n",
       "   NSE CODE  Action  Target         Recommender    High ticker_date  \\\n",
       "0  PETRONET    sell     185   kotak securities   185.00  2015-03-04   \n",
       "0  PETRONET    hold     170              emkay   170.35  2014-08-07   \n",
       "0  PETRONET     buy     195    icicidirect.com   194.90  2014-09-11   \n",
       "0  PETRONET    hold     152     sushil finance   152.00  2014-05-27   \n",
       "0  PETRONET  reduce     143          krchoksey   143.45  2014-05-14   \n",
       "\n",
       "  Recommendation_Date  Target_Met Days_For_Target_Met  \n",
       "0          2014-09-15        True            170 days  \n",
       "0          2014-08-06        True              1 days  \n",
       "0          2014-06-23       False                 NaT  \n",
       "0          2014-05-14        True             13 days  \n",
       "0          2014-05-06        True              8 days  "
      ]
     },
     "execution_count": 35,
     "metadata": {},
     "output_type": "execute_result"
    }
   ],
   "source": [
    "df.head()"
   ]
  },
  {
   "cell_type": "code",
   "execution_count": 5,
   "metadata": {
    "collapsed": true
   },
   "outputs": [],
   "source": [
    "df.to_csv('11942-end.csv')"
   ]
  },
  {
   "cell_type": "code",
   "execution_count": 36,
   "metadata": {},
   "outputs": [
    {
     "data": {
      "text/plain": [
       "'C:\\\\Users\\\\user\\\\Desktop'"
      ]
     },
     "execution_count": 36,
     "metadata": {},
     "output_type": "execute_result"
    }
   ],
   "source": [
    "import os\n",
    "os.getcwd()"
   ]
  }
 ],
 "metadata": {
  "kernelspec": {
   "display_name": "Python 3",
   "language": "python",
   "name": "python3"
  },
  "language_info": {
   "codemirror_mode": {
    "name": "ipython",
    "version": 3
   },
   "file_extension": ".py",
   "mimetype": "text/x-python",
   "name": "python",
   "nbconvert_exporter": "python",
   "pygments_lexer": "ipython3",
   "version": "3.6.3"
  }
 },
 "nbformat": 4,
 "nbformat_minor": 2
}
