{
 "cells": [
  {
   "cell_type": "markdown",
   "metadata": {},
   "source": [
    "## Libraries"
   ]
  },
  {
   "cell_type": "code",
   "execution_count": null,
   "metadata": {},
   "outputs": [],
   "source": [
    "import pandas as pd\n",
    "import numpy as np\n",
    "import urllib2\n",
    "import urllib\n",
    "import BeautifulSoup\n",
    "import cookielib\n",
    "import requests"
   ]
  },
  {
   "cell_type": "markdown",
   "metadata": {},
   "source": [
    "## DataFrame"
   ]
  },
  {
   "cell_type": "code",
   "execution_count": null,
   "metadata": {},
   "outputs": [],
   "source": [
    "new_jersy_data = pd.DataFrame(columns=['Name', 'Overview', 'Years in practice', 'Language',\n",
    "       'Office location', 'Hospital Affiliation',\n",
    "       'Specialties & sub specialties', 'Education & medical training',\n",
    "       'Certification & licensure'])"
   ]
  },
  {
   "cell_type": "markdown",
   "metadata": {},
   "source": [
    "## Getting Html Content using BeautifulSoup"
   ]
  },
  {
   "cell_type": "code",
   "execution_count": null,
   "metadata": {},
   "outputs": [],
   "source": [
    "def link(link):\n",
    "    headers = {\n",
    "    'User-Agent': 'Mozilla/5.0 (Macintosh; Intel Mac OS X 10.13; rv:60.0) Gecko/20100101 Firefox/60.0'}\n",
    "    html_content = requests.get(link, headers=headers)\n",
    "    html_content.status_code\n",
    "    d = (html_content.content)\n",
    "    return BeautifulSoup.BeautifulSoup(d)"
   ]
  },
  {
   "cell_type": "markdown",
   "metadata": {},
   "source": [
    "## Function For getting Doctors Information."
   ]
  },
  {
   "cell_type": "code",
   "execution_count": 1,
   "metadata": {},
   "outputs": [],
   "source": [
    "def doc_info(soup_4):\n",
    "    each_doc_info = []\n",
    "    # Doctor name\n",
    "    each_doc_info.append(str(soup_4.find('h1',{'class':\"hero-heading flex-media-heading block-tight doctor-name \"}).getText()))\n",
    "\n",
    "    # Doctor overview\n",
    "    each_doc_info.append(str(soup_4.find('div',{'class':\"block-normal clearfix\"}).getText()))\n",
    "\n",
    "    # Experience\n",
    "    exp = soup_4.findAll('span',{'class':\"text-large heading-normal-for-small-only right-for-medium-up\"})[1].getText()\n",
    "    #each_doc_info.append(int(''.join(x for x in exp if x.isdigit())))\n",
    "    each_doc_info.append(exp)\n",
    "    # Language\n",
    "    each_doc_info.append(str(soup_4.findAll('span',\n",
    "                        {'class':\"text-large heading-normal-for-small-only right-for-medium-up text-right showmore\"})[0].getText()))\n",
    "\n",
    "    #office_location\n",
    "    each_doc_info.append(str(soup_4.findAll('span',{'class':\"text-strong\"})[0].getText()))\n",
    "    \n",
    "    hospital_affiliation = soup_4.findAll(\"div\",{\"class\":\"flex-small-12 padding-flush\"})\n",
    "    if hospital_affiliation == []:\n",
    "        hos_affiliation = \"No\"\n",
    "    else:\n",
    "        a = []\n",
    "        for i in hospital_affiliation:\n",
    "            a.append(i.find('a',{'class':'heading-larger block-tight'}).getText())\n",
    "        hos_affiliation = str(\",\".join(a))\n",
    "    each_doc_info.append(hos_affiliation)\n",
    "    \n",
    "    # Specialties and sub-specialties\n",
    "    specialities_sub= soup_4.findAll('div',{'class':\"flex-medium-6 flex-small-12\"})\n",
    "    specialties = str(specialities_sub[0].find('a',{'class':'text-large'}).getText())\n",
    "    sub_specialties = str(specialities_sub[0].find('p',{'class':'text-large block-tight'}).getText())\n",
    "    special = \"Specialties: \" +specialties + \", sub-specialties: \" + sub_specialties\n",
    "    each_doc_info.append(special)\n",
    "    \n",
    "    # Education\n",
    "    section = soup_4.findAll('section',{'class':\"block-loosest\"})\n",
    "    index_education_section = 0\n",
    "    for i in range(len(section)):\n",
    "        if str(section[i].find('h2',{'class':\"heading-larger block-normal\"}).getText()) == 'Education &amp; Medical Training':\n",
    "            index_education_section = i\n",
    "            break\n",
    "    education_list = section[index_education_section].findAll(['li'])\n",
    "    education = []\n",
    "    for i in education_list:\n",
    "         education.append(\" \".join(i.getText().split()))\n",
    "    education = str(\" \".join(education))\n",
    "    each_doc_info.append(education)\n",
    "    \n",
    "    # Certification\n",
    "    index_certification_section = 0\n",
    "    for i in range(len(section)):\n",
    "        if str(section[i].find('h2',{'class':\"heading-larger block-normal\"}).getText()) == 'Certifications &amp; Licensure':\n",
    "            index_certification_section = i\n",
    "            break\n",
    "    certification = section[index_certification_section].findAll('li')\n",
    "    certifications = []\n",
    "    for i in certification:\n",
    "        certifications.append(str(i.getText()))\n",
    "    each_doc_info.append(\" \".join(certifications))\n",
    "    return each_doc_info\n",
    "    \n",
    "    "
   ]
  },
  {
   "cell_type": "markdown",
   "metadata": {},
   "source": [
    "## Merging in dataFrame"
   ]
  },
  {
   "cell_type": "code",
   "execution_count": null,
   "metadata": {},
   "outputs": [],
   "source": [
    "def appending_data(info_list):\n",
    "    j = 0\n",
    "    row_num = new_jersy_data.shape[0]+1\n",
    "    for i in new_jersy_data.columns:\n",
    "        new_jersy_data.loc[row_num,i] = info_list[j]\n",
    "        j = j+1"
   ]
  },
  {
   "cell_type": "code",
   "execution_count": null,
   "metadata": {},
   "outputs": [],
   "source": []
  }
 ],
 "metadata": {
  "kernelspec": {
   "display_name": "Python 3",
   "language": "python",
   "name": "python3"
  },
  "language_info": {
   "codemirror_mode": {
    "name": "ipython",
    "version": 3
   },
   "file_extension": ".py",
   "mimetype": "text/x-python",
   "name": "python",
   "nbconvert_exporter": "python",
   "pygments_lexer": "ipython3",
   "version": "3.6.4"
  }
 },
 "nbformat": 4,
 "nbformat_minor": 2
}
